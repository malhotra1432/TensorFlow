{
  "nbformat": 4,
  "nbformat_minor": 0,
  "metadata": {
    "kernelspec": {
      "display_name": "Python 3",
      "language": "python",
      "name": "python3"
    },
    "language_info": {
      "codemirror_mode": {
        "name": "ipython",
        "version": 3
      },
      "file_extension": ".py",
      "mimetype": "text/x-python",
      "name": "python",
      "nbconvert_exporter": "python",
      "pygments_lexer": "ipython3",
      "version": "3.6.5"
    },
    "colab": {
      "name": "9_CNN_TF_MNIST.ipynb",
      "version": "0.3.2",
      "provenance": []
    }
  },
  "cells": [
    {
      "cell_type": "code",
      "metadata": {
        "id": "IviaEKJ_kHkO",
        "colab_type": "code",
        "colab": {}
      },
      "source": [
        "import tensorflow as tf"
      ],
      "execution_count": 0,
      "outputs": []
    },
    {
      "cell_type": "code",
      "metadata": {
        "id": "PEnVbqsMkHkV",
        "colab_type": "code",
        "colab": {}
      },
      "source": [
        "from tensorflow.examples.tutorials.mnist import input_data"
      ],
      "execution_count": 0,
      "outputs": []
    },
    {
      "cell_type": "code",
      "metadata": {
        "id": "OJKuiyI8kHkY",
        "colab_type": "code",
        "colab": {
          "base_uri": "https://localhost:8080/",
          "height": 85
        },
        "outputId": "ad848639-7e4b-40fe-e54d-6fcd941b2c6f"
      },
      "source": [
        "mnist = input_data.read_data_sets(\"MNIST_data/\",one_hot=True)"
      ],
      "execution_count": 25,
      "outputs": [
        {
          "output_type": "stream",
          "text": [
            "Extracting MNIST_data/train-images-idx3-ubyte.gz\n",
            "Extracting MNIST_data/train-labels-idx1-ubyte.gz\n",
            "Extracting MNIST_data/t10k-images-idx3-ubyte.gz\n",
            "Extracting MNIST_data/t10k-labels-idx1-ubyte.gz\n"
          ],
          "name": "stdout"
        }
      ]
    },
    {
      "cell_type": "code",
      "metadata": {
        "id": "gapsUm2TkHkc",
        "colab_type": "code",
        "colab": {}
      },
      "source": [
        "# HELPER\n",
        "# INIT WEIGHTS\n",
        "def init_weights(shape):\n",
        "    init_random_dist = tf.truncated_normal(shape,stddev=0.1)\n",
        "    return tf.Variable(init_random_dist)"
      ],
      "execution_count": 0,
      "outputs": []
    },
    {
      "cell_type": "code",
      "metadata": {
        "id": "BEzERMEqkHkg",
        "colab_type": "code",
        "colab": {}
      },
      "source": [
        "# INIT BIAS\n",
        "def init_bias(shape):\n",
        "    init_bias_vals = tf.constant(0.1,shape=shape)\n",
        "    return tf.Variable(init_bias_vals)"
      ],
      "execution_count": 0,
      "outputs": []
    },
    {
      "cell_type": "code",
      "metadata": {
        "id": "qUTUTiGZkHki",
        "colab_type": "code",
        "colab": {}
      },
      "source": [
        "# CONV2D\n",
        "def conv2d(x,w):\n",
        "    # x --> [batch,H,W,Channels]\n",
        "    # W --> [filter H,filter W,Channels IN, Channels OUT]\n",
        "    return tf.nn.conv2d(x,w,strides=[1,1,1,1],padding='SAME')"
      ],
      "execution_count": 0,
      "outputs": []
    },
    {
      "cell_type": "code",
      "metadata": {
        "id": "LisJtVLZkHkl",
        "colab_type": "code",
        "colab": {}
      },
      "source": [
        "# POOLING\n",
        "def max_pool_2by2(x):\n",
        "    # x --> [batch,h,w,c]\n",
        "    return tf.nn.max_pool(x,ksize=[1,2,2,1],strides=[1,2,2,1],padding='SAME')"
      ],
      "execution_count": 0,
      "outputs": []
    },
    {
      "cell_type": "code",
      "metadata": {
        "id": "La1fMkKdkHkn",
        "colab_type": "code",
        "colab": {}
      },
      "source": [
        "# Convolutional Layer\n",
        "def convolutional_layer(input_x,shape):\n",
        "    w = init_weights(shape)\n",
        "    b = init_bias([shape[3]])\n",
        "    return tf.nn.relu(conv2d(input_x,w)+b)"
      ],
      "execution_count": 0,
      "outputs": []
    },
    {
      "cell_type": "code",
      "metadata": {
        "id": "3xnvJ6QkkHkq",
        "colab_type": "code",
        "colab": {}
      },
      "source": [
        "# NORMAL (FULLY CONNECTED)\n",
        "def normal_full_layer(input_layer,size):\n",
        "    input_size = int(input_layer.get_shape()[1])\n",
        "    w = init_weights([input_size,size])\n",
        "    b = init_bias([size])\n",
        "    return tf.matmul(input_layer,w)+ b"
      ],
      "execution_count": 0,
      "outputs": []
    },
    {
      "cell_type": "code",
      "metadata": {
        "id": "kUeSKVSwkHkw",
        "colab_type": "code",
        "colab": {}
      },
      "source": [
        "# Placeholders\n",
        "x = tf.placeholder(tf.float32,shape=[None,784])"
      ],
      "execution_count": 0,
      "outputs": []
    },
    {
      "cell_type": "code",
      "metadata": {
        "id": "148dHS_rkHk1",
        "colab_type": "code",
        "colab": {}
      },
      "source": [
        "y_true = tf.placeholder(tf.float32,shape=[None,10])"
      ],
      "execution_count": 0,
      "outputs": []
    },
    {
      "cell_type": "code",
      "metadata": {
        "id": "y_xNNU-ikHk4",
        "colab_type": "code",
        "colab": {}
      },
      "source": [
        "# Layers\n",
        "x_image = tf.reshape(x,[-1,28,28,1])"
      ],
      "execution_count": 0,
      "outputs": []
    },
    {
      "cell_type": "code",
      "metadata": {
        "id": "-s0sTziLkHk8",
        "colab_type": "code",
        "colab": {}
      },
      "source": [
        "convo_1 = convolutional_layer(x_image,shape=[5,5,1,32])\n",
        "convo_1_pooling = max_pool_2by2(convo_1)"
      ],
      "execution_count": 0,
      "outputs": []
    },
    {
      "cell_type": "code",
      "metadata": {
        "id": "x5IOOu9okHk_",
        "colab_type": "code",
        "colab": {}
      },
      "source": [
        "convo_2 = convolutional_layer(convo_1_pooling,shape=[5,5,32,64])\n",
        "convo_2_polling = max_pool_2by2(convo_2)"
      ],
      "execution_count": 0,
      "outputs": []
    },
    {
      "cell_type": "code",
      "metadata": {
        "id": "Pxp7SA49kHlC",
        "colab_type": "code",
        "colab": {}
      },
      "source": [
        "convo_2_flat = tf.reshape(convo_2_polling,[-1,7*7*64])\n",
        "fully_layer_one = tf.nn.relu(normal_full_layer(convo_2_flat,1024))"
      ],
      "execution_count": 0,
      "outputs": []
    },
    {
      "cell_type": "code",
      "metadata": {
        "id": "ga8nHeWkkHlF",
        "colab_type": "code",
        "colab": {}
      },
      "source": [
        "# DROPOUT\n",
        "hold_prob = tf.placeholder(tf.float32)\n",
        "full_one_dropout = tf.nn.dropout(fully_layer_one,rate=hold_prob)"
      ],
      "execution_count": 0,
      "outputs": []
    },
    {
      "cell_type": "code",
      "metadata": {
        "id": "M5v_r9ANkHlI",
        "colab_type": "code",
        "colab": {}
      },
      "source": [
        "y_pred = normal_full_layer(full_one_dropout,10)"
      ],
      "execution_count": 0,
      "outputs": []
    },
    {
      "cell_type": "code",
      "metadata": {
        "id": "bk24Oc_HkHlL",
        "colab_type": "code",
        "colab": {}
      },
      "source": [
        "# LOSS FUNCTION\n",
        "cross_entropy = tf.reduce_mean(tf.nn.softmax_cross_entropy_with_logits_v2(labels=y_true,logits=y_pred))"
      ],
      "execution_count": 0,
      "outputs": []
    },
    {
      "cell_type": "code",
      "metadata": {
        "id": "U-H6j49-kHlP",
        "colab_type": "code",
        "colab": {}
      },
      "source": [
        "# OPTIMIZER\n",
        "optimizer = tf.train.AdadeltaOptimizer(learning_rate=0.001)\n",
        "train = optimizer.minimize(cross_entropy)"
      ],
      "execution_count": 0,
      "outputs": []
    },
    {
      "cell_type": "code",
      "metadata": {
        "id": "2GnttV3bkHlS",
        "colab_type": "code",
        "colab": {}
      },
      "source": [
        "init = tf.global_variables_initializer()"
      ],
      "execution_count": 0,
      "outputs": []
    },
    {
      "cell_type": "code",
      "metadata": {
        "id": "vTaZma8wkHlX",
        "colab_type": "code",
        "colab": {
          "base_uri": "https://localhost:8080/",
          "height": 1000
        },
        "outputId": "7dd5fc5a-c508-4a0c-daca-78deab0a08bd"
      },
      "source": [
        "steps = 5000\n",
        "with tf.Session() as sess:\n",
        "    sess.run(init)\n",
        "    for i in range(steps):\n",
        "        batch_x,batch_y = mnist.train.next_batch(50)\n",
        "        sess.run(train,feed_dict={x:batch_x,y_true:batch_y,hold_prob:0.5})\n",
        "        \n",
        "        if i%100 == 0:\n",
        "            print(\"ON STEP: {}\".format(i))\n",
        "            print(\"ACCURACY: \")\n",
        "            matches = tf.equal(tf.arg_max(y_pred,1),tf.arg_max(y_true,1))\n",
        "            acc = tf.reduce_mean(tf.cast(matches,tf.float32))\n",
        "            print(sess.run(acc,feed_dict={x:mnist.test.images,y_true:mnist.test.labels,hold_prob:1.0}))\n",
        "            print('\\n')"
      ],
      "execution_count": 44,
      "outputs": [
        {
          "output_type": "stream",
          "text": [
            "ON STEP: 0\n",
            "ACCURACY: \n",
            "0.098\n",
            "\n",
            "\n",
            "ON STEP: 100\n",
            "ACCURACY: \n",
            "0.098\n",
            "\n",
            "\n",
            "ON STEP: 200\n",
            "ACCURACY: \n",
            "0.098\n",
            "\n",
            "\n",
            "ON STEP: 300\n",
            "ACCURACY: \n",
            "0.098\n",
            "\n",
            "\n",
            "ON STEP: 400\n",
            "ACCURACY: \n",
            "0.098\n",
            "\n",
            "\n",
            "ON STEP: 500\n",
            "ACCURACY: \n",
            "0.098\n",
            "\n",
            "\n",
            "ON STEP: 600\n",
            "ACCURACY: \n",
            "0.098\n",
            "\n",
            "\n",
            "ON STEP: 700\n",
            "ACCURACY: \n",
            "0.098\n",
            "\n",
            "\n",
            "ON STEP: 800\n",
            "ACCURACY: \n",
            "0.098\n",
            "\n",
            "\n",
            "ON STEP: 900\n",
            "ACCURACY: \n",
            "0.098\n",
            "\n",
            "\n",
            "ON STEP: 1000\n",
            "ACCURACY: \n",
            "0.098\n",
            "\n",
            "\n",
            "ON STEP: 1100\n",
            "ACCURACY: \n",
            "0.098\n",
            "\n",
            "\n",
            "ON STEP: 1200\n",
            "ACCURACY: \n",
            "0.098\n",
            "\n",
            "\n",
            "ON STEP: 1300\n",
            "ACCURACY: \n",
            "0.098\n",
            "\n",
            "\n",
            "ON STEP: 1400\n",
            "ACCURACY: \n",
            "0.098\n",
            "\n",
            "\n",
            "ON STEP: 1500\n",
            "ACCURACY: \n",
            "0.098\n",
            "\n",
            "\n",
            "ON STEP: 1600\n",
            "ACCURACY: \n",
            "0.098\n",
            "\n",
            "\n",
            "ON STEP: 1700\n",
            "ACCURACY: \n",
            "0.098\n",
            "\n",
            "\n",
            "ON STEP: 1800\n",
            "ACCURACY: \n",
            "0.098\n",
            "\n",
            "\n",
            "ON STEP: 1900\n",
            "ACCURACY: \n",
            "0.098\n",
            "\n",
            "\n",
            "ON STEP: 2000\n",
            "ACCURACY: \n",
            "0.098\n",
            "\n",
            "\n",
            "ON STEP: 2100\n",
            "ACCURACY: \n",
            "0.098\n",
            "\n",
            "\n",
            "ON STEP: 2200\n",
            "ACCURACY: \n",
            "0.098\n",
            "\n",
            "\n",
            "ON STEP: 2300\n",
            "ACCURACY: \n",
            "0.098\n",
            "\n",
            "\n",
            "ON STEP: 2400\n",
            "ACCURACY: \n",
            "0.098\n",
            "\n",
            "\n",
            "ON STEP: 2500\n",
            "ACCURACY: \n",
            "0.098\n",
            "\n",
            "\n",
            "ON STEP: 2600\n",
            "ACCURACY: \n",
            "0.098\n",
            "\n",
            "\n",
            "ON STEP: 2700\n",
            "ACCURACY: \n",
            "0.098\n",
            "\n",
            "\n",
            "ON STEP: 2800\n",
            "ACCURACY: \n",
            "0.098\n",
            "\n",
            "\n",
            "ON STEP: 2900\n",
            "ACCURACY: \n",
            "0.098\n",
            "\n",
            "\n",
            "ON STEP: 3000\n",
            "ACCURACY: \n",
            "0.098\n",
            "\n",
            "\n",
            "ON STEP: 3100\n",
            "ACCURACY: \n",
            "0.098\n",
            "\n",
            "\n",
            "ON STEP: 3200\n",
            "ACCURACY: \n",
            "0.098\n",
            "\n",
            "\n",
            "ON STEP: 3300\n",
            "ACCURACY: \n",
            "0.098\n",
            "\n",
            "\n",
            "ON STEP: 3400\n",
            "ACCURACY: \n",
            "0.098\n",
            "\n",
            "\n",
            "ON STEP: 3500\n",
            "ACCURACY: \n",
            "0.098\n",
            "\n",
            "\n",
            "ON STEP: 3600\n",
            "ACCURACY: \n",
            "0.098\n",
            "\n",
            "\n",
            "ON STEP: 3700\n",
            "ACCURACY: \n",
            "0.098\n",
            "\n",
            "\n",
            "ON STEP: 3800\n",
            "ACCURACY: \n",
            "0.098\n",
            "\n",
            "\n",
            "ON STEP: 3900\n",
            "ACCURACY: \n",
            "0.098\n",
            "\n",
            "\n",
            "ON STEP: 4000\n",
            "ACCURACY: \n",
            "0.098\n",
            "\n",
            "\n",
            "ON STEP: 4100\n",
            "ACCURACY: \n",
            "0.098\n",
            "\n",
            "\n",
            "ON STEP: 4200\n",
            "ACCURACY: \n",
            "0.098\n",
            "\n",
            "\n",
            "ON STEP: 4300\n",
            "ACCURACY: \n",
            "0.098\n",
            "\n",
            "\n",
            "ON STEP: 4400\n",
            "ACCURACY: \n",
            "0.098\n",
            "\n",
            "\n",
            "ON STEP: 4500\n",
            "ACCURACY: \n",
            "0.098\n",
            "\n",
            "\n",
            "ON STEP: 4600\n",
            "ACCURACY: \n",
            "0.098\n",
            "\n",
            "\n",
            "ON STEP: 4700\n",
            "ACCURACY: \n",
            "0.098\n",
            "\n",
            "\n",
            "ON STEP: 4800\n",
            "ACCURACY: \n",
            "0.098\n",
            "\n",
            "\n",
            "ON STEP: 4900\n",
            "ACCURACY: \n",
            "0.098\n",
            "\n",
            "\n"
          ],
          "name": "stdout"
        }
      ]
    }
  ]
}